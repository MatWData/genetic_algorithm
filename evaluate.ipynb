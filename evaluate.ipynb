{
 "cells": [
  {
   "cell_type": "markdown",
   "metadata": {},
   "source": [
    "## Evaluating my genetic algorithm\n",
    "\n",
    "### Overview\n",
    "This notebook will be used to evaluate the results returned by the genetic algorithm. With the aim of exploring, and investigating, the range of results it may produce.]\n",
    "\n",
    "### Data Visualisation\n",
    "This will include visualisations of how the algorithm learns over time."
   ]
  },
  {
   "cell_type": "code",
   "execution_count": 1,
   "metadata": {},
   "outputs": [],
   "source": [
    "import pandas as pd\n",
    "import seaborn as sns\n",
    "import matplotlib.pyplot as plt\n",
    "import json\n",
    "import genetic_algorithm as ga\n",
    "import numpy as np"
   ]
  },
  {
   "cell_type": "markdown",
   "metadata": {},
   "source": [
    "**Best Params - According to run of Optuna optimisation**\n",
    "for ease of use purposes I will be rounding these figures."
   ]
  },
  {
   "cell_type": "code",
   "execution_count": 2,
   "metadata": {},
   "outputs": [],
   "source": [
    "with open('best_params.json', 'r') as file:\n",
    "    file = json.load(file)"
   ]
  },
  {
   "cell_type": "code",
   "execution_count": 3,
   "metadata": {},
   "outputs": [],
   "source": [
    "rounded_params = {}\n",
    "\n",
    "for param, value in file.items():\n",
    "    if type(value) is str:\n",
    "        rounded_params[param] = value\n",
    "    elif type(value) is float:\n",
    "        # Round floats to 3 decimal places\n",
    "        rounded_params[param] = round(value, 3)\n",
    "    else:\n",
    "        # Round int to closest 100\n",
    "        rounded_params[param] = round(value, -2)"
   ]
  },
  {
   "cell_type": "code",
   "execution_count": 4,
   "metadata": {},
   "outputs": [
    {
     "data": {
      "text/plain": [
       "{'selection_method': 'rank',\n",
       " 'population_size': 200,\n",
       " 'num_generations': 1000,\n",
       " 'crossover_rate': 0.834,\n",
       " 'mutation_rate': 0.219}"
      ]
     },
     "execution_count": 4,
     "metadata": {},
     "output_type": "execute_result"
    }
   ],
   "source": [
    "rounded_params"
   ]
  },
  {
   "cell_type": "code",
   "execution_count": 5,
   "metadata": {},
   "outputs": [
    {
     "name": "stdout",
     "output_type": "stream",
     "text": [
      "Best Score: 355\n",
      "Solution: [1, 13, 7, 2, 6, 10, 3, 9, 12, 11]\n",
      "Best Score: 355\n"
     ]
    }
   ],
   "source": [
    "solution, score, population, generation_scores = ga.genetic_algorithm(**rounded_params)\n",
    "\n",
    "print(f'Solution: {solution}')\n",
    "print(f'Best Score: {score}')\n",
    "\n"
   ]
  },
  {
   "cell_type": "markdown",
   "metadata": {},
   "source": [
    "### EXAMPLE AND FINAL ANSWER\n",
    "\n",
    "###### TASK 1,  2,  3,  4,  5,  6,  7,  8,  9,  10\n",
    "###### EMP  1,  13, 6,  2,  3,  10, 5,  7,  12, 11\n",
    "###### SCR  55, 35, 37, 34, 35, 29, 27, 33, 33, 33\n",
    "##### Total Score = 351\n",
    "\n",
    "###### TASK 1,  2,  3,  4,  5,  6,  7,  8,  9,  10\n",
    "###### EMP  **1,  13, 7,  2,  6,  10, 3,  9,  12, 11**\n",
    "###### SCR  55, 35, 37, 34, 37, 29, 30, 32, 33, 33\n",
    "##### Total Score = 355\n",
    "\n",
    "\n",
    "## Average Performance\n",
    "We can run the algorithm 10 times to find the average, min, and max performance. We can also have a look at the algorithm process for each of these runs to understand how it learns."
   ]
  },
  {
   "cell_type": "code",
   "execution_count": null,
   "metadata": {},
   "outputs": [
    {
     "name": "stdout",
     "output_type": "stream",
     "text": [
      "Best Score: 355\n",
      "Best Score: 355\n",
      "Best Score: 355\n",
      "Best Score: 355\n",
      "Best Score: 355\n",
      "Best Score: 355\n",
      "Best Score: 355\n",
      "Best Score: 351\n",
      "Best Score: 355\n",
      "Best Score: 355\n",
      "Mean score: 354.6, Max Score: 355, Min Score: 351\n"
     ]
    }
   ],
   "source": [
    "# Get average scores and a dioctionary of the algorithm progress each run makes.\n",
    "solutions = []\n",
    "scores = []\n",
    "algorithm_progress = {}\n",
    "\n",
    "for i in range(10):\n",
    "    solution, score, population, generation_scores= ga.genetic_algorithm(**rounded_params)\n",
    "    solutions.append(solution)\n",
    "    scores.append(score)\n",
    "    algorithm_progress[i] = generation_scores\n",
    "\n",
    "print(f\"Mean score: {np.mean(scores)}, Max Score: {max(scores)}, Min Score: {min(scores)}\")"
   ]
  },
  {
   "cell_type": "markdown",
   "metadata": {},
   "source": [
    "### Plot the progress of each of these runs"
   ]
  },
  {
   "cell_type": "code",
   "execution_count": null,
   "metadata": {},
   "outputs": [
    {
     "data": {
      "text/plain": [
       "{0:      run  generation  score\n",
       " 0      0           0    298\n",
       " 1      0           1    315\n",
       " 2      0           2    333\n",
       " 3      0           3    333\n",
       " 4      0           4    333\n",
       " ..   ...         ...    ...\n",
       " 995    0         995    355\n",
       " 996    0         996    355\n",
       " 997    0         997    355\n",
       " 998    0         998    355\n",
       " 999    0         999    355\n",
       " \n",
       " [1000 rows x 3 columns],\n",
       " 1:      run  generation  score\n",
       " 0      1           0    304\n",
       " 1      1           1    310\n",
       " 2      1           2    316\n",
       " 3      1           3    324\n",
       " 4      1           4    324\n",
       " ..   ...         ...    ...\n",
       " 995    1         995    355\n",
       " 996    1         996    355\n",
       " 997    1         997    355\n",
       " 998    1         998    355\n",
       " 999    1         999    355\n",
       " \n",
       " [1000 rows x 3 columns],\n",
       " 2:      run  generation  score\n",
       " 0      2           0    310\n",
       " 1      2           1    312\n",
       " 2      2           2    314\n",
       " 3      2           3    318\n",
       " 4      2           4    328\n",
       " ..   ...         ...    ...\n",
       " 995    2         995    355\n",
       " 996    2         996    355\n",
       " 997    2         997    355\n",
       " 998    2         998    355\n",
       " 999    2         999    355\n",
       " \n",
       " [1000 rows x 3 columns],\n",
       " 3:      run  generation  score\n",
       " 0      3           0    314\n",
       " 1      3           1    314\n",
       " 2      3           2    314\n",
       " 3      3           3    322\n",
       " 4      3           4    328\n",
       " ..   ...         ...    ...\n",
       " 995    3         995    355\n",
       " 996    3         996    355\n",
       " 997    3         997    355\n",
       " 998    3         998    355\n",
       " 999    3         999    355\n",
       " \n",
       " [1000 rows x 3 columns],\n",
       " 4:      run  generation  score\n",
       " 0      4           0    314\n",
       " 1      4           1    316\n",
       " 2      4           2    316\n",
       " 3      4           3    316\n",
       " 4      4           4    319\n",
       " ..   ...         ...    ...\n",
       " 995    4         995    355\n",
       " 996    4         996    355\n",
       " 997    4         997    355\n",
       " 998    4         998    355\n",
       " 999    4         999    355\n",
       " \n",
       " [1000 rows x 3 columns],\n",
       " 5:      run  generation  score\n",
       " 0      5           0    317\n",
       " 1      5           1    317\n",
       " 2      5           2    322\n",
       " 3      5           3    323\n",
       " 4      5           4    325\n",
       " ..   ...         ...    ...\n",
       " 995    5         995    355\n",
       " 996    5         996    355\n",
       " 997    5         997    355\n",
       " 998    5         998    355\n",
       " 999    5         999    355\n",
       " \n",
       " [1000 rows x 3 columns],\n",
       " 6:      run  generation  score\n",
       " 0      6           0    315\n",
       " 1      6           1    320\n",
       " 2      6           2    320\n",
       " 3      6           3    320\n",
       " 4      6           4    320\n",
       " ..   ...         ...    ...\n",
       " 995    6         995    355\n",
       " 996    6         996    355\n",
       " 997    6         997    355\n",
       " 998    6         998    355\n",
       " 999    6         999    355\n",
       " \n",
       " [1000 rows x 3 columns],\n",
       " 7:      run  generation  score\n",
       " 0      7           0    304\n",
       " 1      7           1    307\n",
       " 2      7           2    313\n",
       " 3      7           3    326\n",
       " 4      7           4    326\n",
       " ..   ...         ...    ...\n",
       " 995    7         995    351\n",
       " 996    7         996    351\n",
       " 997    7         997    351\n",
       " 998    7         998    351\n",
       " 999    7         999    351\n",
       " \n",
       " [1000 rows x 3 columns],\n",
       " 8:      run  generation  score\n",
       " 0      8           0    308\n",
       " 1      8           1    318\n",
       " 2      8           2    318\n",
       " 3      8           3    318\n",
       " 4      8           4    325\n",
       " ..   ...         ...    ...\n",
       " 995    8         995    355\n",
       " 996    8         996    355\n",
       " 997    8         997    355\n",
       " 998    8         998    355\n",
       " 999    8         999    355\n",
       " \n",
       " [1000 rows x 3 columns],\n",
       " 9:      run  generation  score\n",
       " 0      9           0    320\n",
       " 1      9           1    320\n",
       " 2      9           2    320\n",
       " 3      9           3    331\n",
       " 4      9           4    331\n",
       " ..   ...         ...    ...\n",
       " 995    9         995    355\n",
       " 996    9         996    355\n",
       " 997    9         997    355\n",
       " 998    9         998    355\n",
       " 999    9         999    355\n",
       " \n",
       " [1000 rows x 3 columns]}"
      ]
     },
     "execution_count": 49,
     "metadata": {},
     "output_type": "execute_result"
    }
   ],
   "source": [
    "df_dict ={}\n",
    "for run, generation_scores in algorithm_progress.items():\n",
    "    data = []\n",
    "    for gen_num, score in enumerate(generation_scores):\n",
    "        data.append({\n",
    "            'run': run,\n",
    "            'generation': gen_num,\n",
    "            'score': score,\n",
    "        })\n",
    "    \n",
    "    df = pd.DataFrame(data)\n",
    "    df_dict[run] = df"
   ]
  },
  {
   "cell_type": "code",
   "execution_count": null,
   "metadata": {},
   "outputs": [
    {
     "name": "stderr",
     "output_type": "stream",
     "text": [
      "/opt/anaconda3/lib/python3.11/site-packages/seaborn/_oldcore.py:1119: FutureWarning: use_inf_as_na option is deprecated and will be removed in a future version. Convert inf values to NaN before operating instead.\n",
      "  with pd.option_context('mode.use_inf_as_na', True):\n",
      "/opt/anaconda3/lib/python3.11/site-packages/seaborn/_oldcore.py:1119: FutureWarning: use_inf_as_na option is deprecated and will be removed in a future version. Convert inf values to NaN before operating instead.\n",
      "  with pd.option_context('mode.use_inf_as_na', True):\n"
     ]
    },
    {
     "data": {
      "image/png": "[encoded data removed]",
      "text/plain": [
       "<Figure size 1000x600 with 1 Axes>"
      ]
     },
     "metadata": {},
     "output_type": "display_data"
    }
   ],
   "source": [
    "df_combined = pd.concat(df_dict.values(), ignore_index=True)\n",
    "\n",
    "plt.figure(figsize=(10,6))\n",
    "\n",
    "sns.set_theme(style='whitegrid',rc={\n",
    "    \"grid.linestyle\": \"--\"\n",
    "})\n",
    "sns.lineplot(data=df_combined, x='generation', y='score', hue='run', palette='tab10', linewidth=1.5, legend=False)\n",
    "sns.despine()\n",
    "\n",
    "\n",
    "plt.xlim(-1, 145)\n",
    "plt.ylim(295, 360)\n",
    "plt.xlabel(\"Generation\")\n",
    "plt.ylabel('Score')\n",
    "plt.title('Convergence Curves of Genetic Algorithm Runs')\n",
    "\n",
    "plt.show()"
   ]
  },
  {
   "cell_type": "markdown",
   "metadata": {},
   "source": [
    "# Comparison between brute-force and genetic algorithms\n",
    "\n",
    "## Results\n",
    "We can view the difference in results and scores from each run, the brute-force algorithm is expected to obtain 355 everytime.\n",
    "\n",
    "## Runtime\n",
    "Recording the runtime will be valuable information for comparing and highlighting why genetic algorithms exist.\n",
    "\n",
    "\n",
    "**As the brute-force algorithm will take a long time, i've decided to do 3 runs of each**\n",
    "This should be enough to showcase the increased resources needed for brute-force algorithms."
   ]
  },
  {
   "cell_type": "code",
   "execution_count": 10,
   "metadata": {},
   "outputs": [
    {
     "name": "stdout",
     "output_type": "stream",
     "text": [
      "Starting Brute-force 1\n",
      "Found 1 solutions reaching 355\n",
      "Solution: (1, 13, 7, 2, 6, 10, 3, 9, 12, 11)\n",
      "Starting Brute-force 2\n",
      "Found 1 solutions reaching 355\n",
      "Solution: (1, 13, 7, 2, 6, 10, 3, 9, 12, 11)\n",
      "Starting Brute-force 3\n",
      "Found 1 solutions reaching 355\n",
      "Solution: (1, 13, 7, 2, 6, 10, 3, 9, 12, 11)\n",
      "Starting GA 1\n",
      "Best Score: 355\n",
      "Starting GA 2\n",
      "Best Score: 355\n",
      "Starting GA 3\n",
      "Best Score: 351\n"
     ]
    }
   ],
   "source": [
    "# Comparison to the brute force\n",
    "from brute_force import brute_force_algorithm\n",
    "from performance_matrix import PERFORMANCE_MATRIX\n",
    "import time\n",
    "\n",
    "brute_force_scores = []\n",
    "brute_force_times = []\n",
    "for i in range(3):\n",
    "    print(f\"Starting Brute-force {i+1}\")\n",
    "    start = time.time()\n",
    "    _, score = brute_force_algorithm(performance_matrix=PERFORMANCE_MATRIX)\n",
    "    end = time.time()\n",
    "\n",
    "    runtime = end-start\n",
    "    brute_force_times.append(runtime)\n",
    "    brute_force_scores.append(score)\n",
    "\n",
    "ga_scores = []\n",
    "ga_times = []\n",
    "for i in range(3):\n",
    "    print(f\"Starting GA {i+1}\")\n",
    "    start = time.time()\n",
    "    _, score, _, _= ga.genetic_algorithm(**rounded_params)\n",
    "    end = time.time()\n",
    "\n",
    "    runtime = end-start\n",
    "    ga_times.append(runtime)\n",
    "    ga_scores.append(score)"
   ]
  },
  {
   "cell_type": "code",
   "execution_count": 1,
   "metadata": {},
   "outputs": [
    {
     "ename": "NameError",
     "evalue": "name 'sns' is not defined",
     "output_type": "error",
     "traceback": [
      "\u001b[0;31m---------------------------------------------------------------------------\u001b[0m",
      "\u001b[0;31mNameError\u001b[0m                                 Traceback (most recent call last)",
      "Cell \u001b[0;32mIn[1], line 2\u001b[0m\n\u001b[1;32m      1\u001b[0m \u001b[38;5;66;03m# Apply the Seaborn theme\u001b[39;00m\n\u001b[0;32m----> 2\u001b[0m sns\u001b[38;5;241m.\u001b[39mset_theme(style\u001b[38;5;241m=\u001b[39m\u001b[38;5;124m'\u001b[39m\u001b[38;5;124mwhitegrid\u001b[39m\u001b[38;5;124m'\u001b[39m, rc\u001b[38;5;241m=\u001b[39m{\u001b[38;5;124m\"\u001b[39m\u001b[38;5;124mgrid.linestyle\u001b[39m\u001b[38;5;124m\"\u001b[39m: \u001b[38;5;124m\"\u001b[39m\u001b[38;5;124m--\u001b[39m\u001b[38;5;124m\"\u001b[39m})\n\u001b[1;32m      4\u001b[0m \u001b[38;5;66;03m# Prepare the data for Seaborn\u001b[39;00m\n\u001b[1;32m      5\u001b[0m data \u001b[38;5;241m=\u001b[39m {\n\u001b[1;32m      6\u001b[0m     \u001b[38;5;124m'\u001b[39m\u001b[38;5;124mAlgorithm\u001b[39m\u001b[38;5;124m'\u001b[39m: [\u001b[38;5;124m'\u001b[39m\u001b[38;5;124mBrute Force\u001b[39m\u001b[38;5;124m'\u001b[39m, \u001b[38;5;124m'\u001b[39m\u001b[38;5;124mBrute Force\u001b[39m\u001b[38;5;124m'\u001b[39m, \u001b[38;5;124m'\u001b[39m\u001b[38;5;124mGenetic Algorithm\u001b[39m\u001b[38;5;124m'\u001b[39m, \u001b[38;5;124m'\u001b[39m\u001b[38;5;124mGenetic Algorithm\u001b[39m\u001b[38;5;124m'\u001b[39m],\n\u001b[1;32m      7\u001b[0m     \u001b[38;5;124m'\u001b[39m\u001b[38;5;124mMetric\u001b[39m\u001b[38;5;124m'\u001b[39m: [\u001b[38;5;124m'\u001b[39m\u001b[38;5;124mAverage Score\u001b[39m\u001b[38;5;124m'\u001b[39m, \u001b[38;5;124m'\u001b[39m\u001b[38;5;124mAverage Runtime (s)\u001b[39m\u001b[38;5;124m'\u001b[39m, \u001b[38;5;124m'\u001b[39m\u001b[38;5;124mAverage Score\u001b[39m\u001b[38;5;124m'\u001b[39m, \u001b[38;5;124m'\u001b[39m\u001b[38;5;124mAverage Runtime (s)\u001b[39m\u001b[38;5;124m'\u001b[39m],\n\u001b[0;32m   (...)\u001b[0m\n\u001b[1;32m     13\u001b[0m     ]\n\u001b[1;32m     14\u001b[0m }\n",
      "\u001b[0;31mNameError\u001b[0m: name 'sns' is not defined"
     ]
    }
   ],
   "source": [
    "# Apply the Seaborn theme\n",
    "sns.set_theme(style='whitegrid', rc={\"grid.linestyle\": \"--\"})\n",
    "\n",
    "# Prepare the data for Seaborn\n",
    "data = {\n",
    "    'Algorithm': ['Brute Force', 'Brute Force', 'Genetic Algorithm', 'Genetic Algorithm'],\n",
    "    'Metric': ['Average Score', 'Average Runtime (s)', 'Average Score', 'Average Runtime (s)'],\n",
    "    'Value': [\n",
    "        sum(brute_force_scores) / len(brute_force_scores),  # Average score\n",
    "        sum(brute_force_times) / len(brute_force_times),    # Average runtime\n",
    "        sum(ga_scores) / len(ga_scores),                   # Average score\n",
    "        sum(ga_times) / len(ga_times)                      # Average runtime\n",
    "    ]\n",
    "}\n",
    "df_combined = pd.DataFrame(data)\n",
    "\n",
    "# Create the grouped bar chart\n",
    "plt.figure(figsize=(5, 6))\n",
    "sns.barplot(\n",
    "    data=df_combined, \n",
    "    x='Algorithm', \n",
    "    y='Value', \n",
    "    hue='Metric', \n",
    "    palette='tab10', \n",
    "    dodge=True\n",
    ")\n",
    "sns.despine()\n",
    "\n",
    "# Customize the chart\n",
    "plt.title('Comparison of Brute Force and Genetic Algorithm', fontsize=14)\n",
    "plt.ylabel('Value')\n",
    "plt.xlabel('')\n",
    "plt.legend(title='Metric', loc='upper right', fontsize=10)\n",
    "plt.tight_layout()\n",
    "plt.show()\n"
   ]
  },
  {
   "cell_type": "code",
   "execution_count": null,
   "metadata": {},
   "outputs": [],
   "source": []
  }
 ],
 "metadata": {
  "kernelspec": {
   "display_name": "base",
   "language": "python",
   "name": "python3"
  },
  "language_info": {
   "codemirror_mode": {
    "name": "ipython",
    "version": 3
   },
   "file_extension": ".py",
   "mimetype": "text/x-python",
   "name": "python",
   "nbconvert_exporter": "python",
   "pygments_lexer": "ipython3",
   "version": "3.11.7"
  }
 },
 "nbformat": 4,
 "nbformat_minor": 2
}
